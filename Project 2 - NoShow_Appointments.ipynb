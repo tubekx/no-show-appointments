{
 "cells": [
  {
   "cell_type": "markdown",
   "metadata": {},
   "source": [
    "#### Description\n",
    "The dataset is a collection of information about patients appointments in Brazil with focus on keeping to the appointments by the patients.\n",
    "#### Question\n",
    "Using the data, we need to determine the important factors that can help in predicting if a patient will show up for their scheduled appointment.\n",
    "#### Steps\n",
    "    1.Import the necessary libraries and load dataset\n",
    "    2.Get basic information about the dataset.\n",
    "    3.Clean the dataset\n",
    "        i.Correct the datatype for the necessary columns.\n",
    "        ii.Rename columns if necessary\n",
    "        iii.Drop rows that are not relevant to the analysis.\n",
    "    4.Analyse and use visualizations to answer the project questions."
   ]
  },
  {
   "cell_type": "code",
   "execution_count": null,
   "metadata": {},
   "outputs": [],
   "source": []
  }
 ],
 "metadata": {
  "kernelspec": {
   "display_name": "Python 3",
   "language": "python",
   "name": "python3"
  },
  "language_info": {
   "codemirror_mode": {
    "name": "ipython",
    "version": 3
   },
   "file_extension": ".py",
   "mimetype": "text/x-python",
   "name": "python",
   "nbconvert_exporter": "python",
   "pygments_lexer": "ipython3",
   "version": "3.7.7"
  }
 },
 "nbformat": 4,
 "nbformat_minor": 4
}
